{
 "cells": [
  {
   "cell_type": "markdown",
   "id": "a31d63a3",
   "metadata": {},
   "source": [
    "## Test Pipeline \n",
    "\n",
    "---"
   ]
  },
  {
   "cell_type": "code",
   "execution_count": 1,
   "id": "d36be661",
   "metadata": {},
   "outputs": [
    {
     "name": "stdout",
     "output_type": "stream",
     "text": [
      "Cluster created\n"
     ]
    }
   ],
   "source": [
    "from cassandra_queries import *\n",
    "from cassandra.cluster import Cluster\n",
    "\n",
    "try:\n",
    "    cluster = Cluster(['127.0.0.1'])\n",
    "    # To establish connection and begin executing queries, need a session\n",
    "    session = cluster.connect()\n",
    "    print('Cluster created')\n",
    "\n",
    "except Exception as e:\n",
    "    print(e)"
   ]
  },
  {
   "cell_type": "code",
   "execution_count": 2,
   "id": "838b7a07",
   "metadata": {},
   "outputs": [
    {
     "name": "stdout",
     "output_type": "stream",
     "text": [
      "Sparkify keyspace set\n"
     ]
    }
   ],
   "source": [
    "# Connect to keyspace\n",
    "try:\n",
    "    session.set_keyspace('sparkify')\n",
    "    print('Sparkify keyspace set')\n",
    "\n",
    "except Exception as e:\n",
    "    print(e)"
   ]
  },
  {
   "cell_type": "code",
   "execution_count": 3,
   "id": "8185144d",
   "metadata": {},
   "outputs": [
    {
     "name": "stdout",
     "output_type": "stream",
     "text": [
      "Query successful\n",
      "Row(artist='Faithless', song='Music Matters (Mark Knight Dub)', length=Decimal('495.3073'))\n"
     ]
    }
   ],
   "source": [
    "# Query for the artist, song title and song's length in the music app history that was heard during\n",
    "# sessionId = 338, and itemInSession = 4\n",
    "query = '''SELECT artist, song, length\n",
    "           FROM table_2_3_1_1\n",
    "           WHERE sessionId = 338 AND itemInSession = 4'''\n",
    "try: \n",
    "    rows = session.execute(query)\n",
    "    print('Query successful')\n",
    "\n",
    "except Exception as e:\n",
    "    print('\\n')\n",
    "    print(e)\n",
    "    print('\\n')\n",
    "\n",
    "for row in rows:\n",
    "    print(row)\n",
    "#     print(row.artist, row.song, row.length)"
   ]
  },
  {
   "cell_type": "code",
   "execution_count": 4,
   "id": "7d3994b8",
   "metadata": {},
   "outputs": [
    {
     "name": "stdout",
     "output_type": "stream",
     "text": [
      "Query successful\n",
      "Row(artist='Lonnie Gordon', song='Catch You Baby (Steve Pitron & Max Sanna Radio Edit)', first_name='Sylvie', last_name='Cruz')\n",
      "Row(artist='Sebastien Tellier', song='Kilometer', first_name='Sylvie', last_name='Cruz')\n",
      "Row(artist='Three Drives', song='Greece 2000', first_name='Sylvie', last_name='Cruz')\n",
      "Row(artist='Down To The Bone', song=\"Keep On Keepin' On\", first_name='Sylvie', last_name='Cruz')\n"
     ]
    }
   ],
   "source": [
    "# Query for the name of artist, song (sorted by itemInSession) and user (first and last name) for \n",
    "# userid = 10, sessionid = 182\n",
    "query = ('''SELECT artist, song, first_name, Last_name\n",
    "            FROM table_2_3_2_2\n",
    "            WHERE userId = 10 AND sessionId = 182\n",
    "            ORDER BY itemInSession DESC\n",
    "''')\n",
    "try: \n",
    "    rows = session.execute(query)\n",
    "    print('Query successful')\n",
    "\n",
    "except Exception as e:\n",
    "    print(e)\n",
    "\n",
    "for row in rows:\n",
    "    print(row)\n",
    "#     print(row.artist, row.song, row.first_name, row.last_name)"
   ]
  },
  {
   "cell_type": "code",
   "execution_count": 5,
   "id": "b2c6088d",
   "metadata": {},
   "outputs": [
    {
     "name": "stdout",
     "output_type": "stream",
     "text": [
      "Query successful\n",
      "Row(first_name='Jacqueline', last_name='Lynch', song='All Hands Against His Own', userid=29)\n",
      "Row(first_name='Tegan', last_name='Levine', song='All Hands Against His Own', userid=80)\n",
      "Row(first_name='Sara', last_name='Johnson', song='All Hands Against His Own', userid=95)\n"
     ]
    }
   ],
   "source": [
    "# Query for every user name (first and last) in my music app history who listened to the song 'All Hands Against His Own'\n",
    "query = ('''SELECT first_name, Last_name, song, userId\n",
    "            FROM table_2_3_3_3\n",
    "            WHERE song = 'All Hands Against His Own'\n",
    "''')\n",
    "try: \n",
    "    rows = session.execute(query)\n",
    "    print('Query successful')\n",
    "\n",
    "except Exception as e:\n",
    "    print(e)\n",
    "\n",
    "for row in rows:\n",
    "    print(row)\n",
    "#     print(row.first_name, row.last_name)"
   ]
  },
  {
   "cell_type": "code",
   "execution_count": 7,
   "id": "0e6630d4",
   "metadata": {},
   "outputs": [
    {
     "name": "stdout",
     "output_type": "stream",
     "text": [
      "Seassion and cluster have been shutdown\n"
     ]
    }
   ],
   "source": [
    "# Shutdown session and cluster\n",
    "try:\n",
    "    session.shutdown()\n",
    "    cluster.shutdown()\n",
    "    print('Seassion and cluster have been shutdown')\n",
    "    \n",
    "except Exception as e:\n",
    "    print(e)"
   ]
  }
 ],
 "metadata": {
  "hide_input": false,
  "kernelspec": {
   "display_name": "Python 3",
   "language": "python",
   "name": "python3"
  },
  "language_info": {
   "codemirror_mode": {
    "name": "ipython",
    "version": 3
   },
   "file_extension": ".py",
   "mimetype": "text/x-python",
   "name": "python",
   "nbconvert_exporter": "python",
   "pygments_lexer": "ipython3",
   "version": "3.8.8"
  },
  "toc": {
   "base_numbering": 1,
   "nav_menu": {},
   "number_sections": true,
   "sideBar": true,
   "skip_h1_title": false,
   "title_cell": "Table of Contents",
   "title_sidebar": "Contents",
   "toc_cell": false,
   "toc_position": {},
   "toc_section_display": true,
   "toc_window_display": false
  }
 },
 "nbformat": 4,
 "nbformat_minor": 5
}
