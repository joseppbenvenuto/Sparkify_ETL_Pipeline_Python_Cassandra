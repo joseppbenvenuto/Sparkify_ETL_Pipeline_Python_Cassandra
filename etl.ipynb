{
 "cells": [
  {
   "cell_type": "markdown",
   "metadata": {},
   "source": [
    "## ETL Pipeline for Pre-Processing the Files\n",
    "\n",
    "---"
   ]
  },
  {
   "cell_type": "code",
   "execution_count": 1,
   "metadata": {},
   "outputs": [],
   "source": [
    "# Import Python packages\n",
    "import pandas as pd\n",
    "import cassandra\n",
    "import re\n",
    "import os\n",
    "import glob\n",
    "import numpy as np\n",
    "import json\n",
    "import csv\n",
    "\n",
    "from cassandra_queries import *\n",
    "from create_tables import *"
   ]
  },
  {
   "cell_type": "markdown",
   "metadata": {},
   "source": [
    "### Data Pre-Processing via CSV Files\n",
    "\n",
    "---"
   ]
  },
  {
   "cell_type": "code",
   "execution_count": 2,
   "metadata": {},
   "outputs": [
    {
     "name": "stdout",
     "output_type": "stream",
     "text": [
      "C:\\Users\\JoseppBenvenuto\\Desktop\\Projects\\Udacity_DE\\Python_Cassandra_ETL_Pipeline\n",
      "['C:\\\\Users\\\\JoseppBenvenuto\\\\Desktop\\\\Projects\\\\Udacity_DE\\\\Python_Cassandra_ETL_Pipeline/event_data\\\\2018-11-01-events.csv', 'C:\\\\Users\\\\JoseppBenvenuto\\\\Desktop\\\\Projects\\\\Udacity_DE\\\\Python_Cassandra_ETL_Pipeline/event_data\\\\2018-11-02-events.csv', 'C:\\\\Users\\\\JoseppBenvenuto\\\\Desktop\\\\Projects\\\\Udacity_DE\\\\Python_Cassandra_ETL_Pipeline/event_data\\\\2018-11-03-events.csv']\n"
     ]
    }
   ],
   "source": [
    "# Checking your current working directory\n",
    "print(os.getcwd())\n",
    "\n",
    "# Get your current folder and subfolder event data\n",
    "filepath = os.getcwd() + '/event_data'\n",
    "\n",
    "# Create a for loop to create a list of files and collect each filepath\n",
    "for root, dirs, files in os.walk(filepath):\n",
    "    \n",
    "# join the file path and roots with the subdirectories using glob\n",
    "    file_path_list = glob.glob(os.path.join(root,'*'))\n",
    "    print(file_path_list[0:3])"
   ]
  },
  {
   "cell_type": "code",
   "execution_count": 3,
   "metadata": {},
   "outputs": [
    {
     "name": "stdout",
     "output_type": "stream",
     "text": [
      "Number of rows: 8056\n",
      "[['', 'Logged In', 'Walter', 'M', '0', 'Frye', '', 'free', 'San Francisco-Oakland-Hayward, CA', 'GET', 'Home', '1.54092E+12', '38', '', '200', '1.54111E+12', '39'], ['', 'Logged In', 'Kaylee', 'F', '0', 'Summers', '', 'free', 'Phoenix-Mesa-Scottsdale, AZ', 'GET', 'Home', '1.54034E+12', '139', '', '200', '1.54111E+12', '8'], [\"Des'ree\", 'Logged In', 'Kaylee', 'F', '1', 'Summers', '246.30812', 'free', 'Phoenix-Mesa-Scottsdale, AZ', 'PUT', 'NextSong', '1.54034E+12', '139', 'You Gotta Be', '200', '1.54111E+12', '8']]\n"
     ]
    }
   ],
   "source": [
    "# initiating an empty list of rows that will be generated from each file\n",
    "full_data_rows_list = [] \n",
    " \n",
    "# for every filepath in the file path list \n",
    "for f in file_path_list:\n",
    "\n",
    "    # reading csv file \n",
    "    with open(f, 'r', encoding = 'utf8', newline = '') as csvfile: \n",
    "        # creating a csv reader object \n",
    "        csvreader = csv.reader(csvfile) \n",
    "        next(csvreader)\n",
    "        \n",
    "         # extracting each data row one by one and append it        \n",
    "        for line in csvreader:\n",
    "            # print(line)\n",
    "            full_data_rows_list.append(line) \n",
    "            \n",
    "# uncomment the code below if you would like to get total number of rows \n",
    "print('Number of rows: ' + str(len(full_data_rows_list)))\n",
    "# uncomment the code below if you would like to check to see what the list of event data rows will look like\n",
    "print(full_data_rows_list[0:3])"
   ]
  },
  {
   "cell_type": "code",
   "execution_count": 4,
   "metadata": {},
   "outputs": [],
   "source": [
    "# creating a smaller event data csv file called event_datafile_full csv that will be used to insert data into the \\\n",
    "# Apache Cassandra tables\n",
    "# Creates a csv reader dialect for open function\n",
    "csv.register_dialect('myDialect', quoting = csv.QUOTE_ALL, skipinitialspace = True)\n",
    "\n",
    "# Writes new csv with all rows from all csv files\n",
    "with open('event_datafile_new.csv', 'w', encoding = 'utf8', newline = '') as f:\n",
    "    # Uses dialect object\n",
    "    writer = csv.writer(f, dialect = 'myDialect')\n",
    "    # Writes column headers\n",
    "    writer.writerow(['artist','firstName','gender','itemInSession','lastName','length',\\\n",
    "                'level','location','sessionId','song','userId'])\n",
    "    # for each row write only specific columns selected by the indicated indexes below\n",
    "    for row in full_data_rows_list:\n",
    "        if (row[0] == ''):\n",
    "            continue\n",
    "        # Selects columns by index\n",
    "        writer.writerow((row[0], row[2], row[3], row[4], row[5], row[6], row[7], row[8], row[12], row[13], row[16]))"
   ]
  },
  {
   "cell_type": "code",
   "execution_count": 5,
   "metadata": {},
   "outputs": [
    {
     "name": "stdout",
     "output_type": "stream",
     "text": [
      "Final number of rows: 6821\n"
     ]
    }
   ],
   "source": [
    "# Check the number of rows in your csv file\n",
    "with open('event_datafile_new.csv', 'r', encoding = 'utf8') as f:\n",
    "    print('Final number of rows: ' + str(sum(1 for line in f)))"
   ]
  },
  {
   "cell_type": "markdown",
   "metadata": {},
   "source": [
    "### Create Cluster & Keyspace\n",
    "\n",
    "---"
   ]
  },
  {
   "cell_type": "code",
   "execution_count": 6,
   "metadata": {},
   "outputs": [
    {
     "name": "stdout",
     "output_type": "stream",
     "text": [
      "Cluster created\n"
     ]
    }
   ],
   "source": [
    "from cassandra.cluster import Cluster\n",
    "try:\n",
    "    cluster = Cluster(['127.0.0.1'])\n",
    "    # To establish connection and begin executing queries, need a session\n",
    "    session = cluster.connect()\n",
    "    print('Cluster created')\n",
    "\n",
    "except Exception as e:\n",
    "    print(e)"
   ]
  },
  {
   "cell_type": "code",
   "execution_count": 7,
   "metadata": {},
   "outputs": [
    {
     "name": "stdout",
     "output_type": "stream",
     "text": [
      "Sparkify keyspace created\n"
     ]
    }
   ],
   "source": [
    "# Create a Keyspace \n",
    "# For one node code\n",
    "try:\n",
    "    session.execute('''CREATE KEYSPACE IF NOT EXISTS sparkify \n",
    "                       WITH REPLICATION =\n",
    "                       {'class':'SimpleStrategy', \n",
    "                       'replication_factor':1}''')\n",
    "    print('Sparkify keyspace created')\n",
    "\n",
    "except Exception as e:\n",
    "    print(e)"
   ]
  },
  {
   "cell_type": "code",
   "execution_count": 8,
   "metadata": {},
   "outputs": [
    {
     "name": "stdout",
     "output_type": "stream",
     "text": [
      "Sparkify keyspace set\n"
     ]
    }
   ],
   "source": [
    "# Connect to keyspace\n",
    "try:\n",
    "    session.set_keyspace('sparkify')\n",
    "    print('Sparkify keyspace set')\n",
    "\n",
    "except Exception as e:\n",
    "    print(e)"
   ]
  },
  {
   "cell_type": "markdown",
   "metadata": {},
   "source": [
    "### Create Tables\n",
    "\n",
    "---"
   ]
  },
  {
   "cell_type": "code",
   "execution_count": 9,
   "metadata": {},
   "outputs": [
    {
     "name": "stdout",
     "output_type": "stream",
     "text": [
      "songs_by_session_and_item created\n"
     ]
    }
   ],
   "source": [
    "# Create tables\n",
    "'''\n",
    "2.3.1  1.\n",
    "Table for query Give me the artist, song title and song's length in the music app history that \n",
    "was heard during sessionId = 338, and itemInSession = 4\n",
    "'''\n",
    "try: \n",
    "    session.execute(songs_by_session_and_item_create)\n",
    "    print('songs_by_session_and_item created')\n",
    "\n",
    "except Exception as e:\n",
    "    print(e)"
   ]
  },
  {
   "cell_type": "code",
   "execution_count": 10,
   "metadata": {},
   "outputs": [
    {
     "name": "stdout",
     "output_type": "stream",
     "text": [
      "songs_by_user_and_session created\n"
     ]
    }
   ],
   "source": [
    "'''\n",
    "2.3.2  2. \n",
    "Table to query name of artist, song (sorted by itemInSession) \n",
    "and user (first and last name) for userid = 10, sessionid = 182\n",
    "'''\n",
    "try: \n",
    "    session.execute(songs_by_user_and_session_create)\n",
    "    print('songs_by_user_and_session created')\n",
    "\n",
    "except Exception as e:\n",
    "    print(e)"
   ]
  },
  {
   "cell_type": "code",
   "execution_count": 11,
   "metadata": {},
   "outputs": [
    {
     "name": "stdout",
     "output_type": "stream",
     "text": [
      "songs_by_user created\n"
     ]
    }
   ],
   "source": [
    "'''\n",
    "2.3.3  3. \n",
    "Table to query every user name (first and last) in my music app history \n",
    "who listened to the song 'All Hands Against His Own'\n",
    "'''\n",
    "query = ''''''\n",
    "\n",
    "try: \n",
    "    session.execute(songs_by_user_create)\n",
    "    print('songs_by_user created')\n",
    "\n",
    "except Exception as e:\n",
    "    print(e)"
   ]
  },
  {
   "cell_type": "markdown",
   "metadata": {},
   "source": [
    "### Insert Data\n",
    "\n",
    "---"
   ]
  },
  {
   "cell_type": "code",
   "execution_count": 12,
   "metadata": {},
   "outputs": [
    {
     "name": "stdout",
     "output_type": "stream",
     "text": [
      "Inserted data for songs_by_session_and_item, songs_by_user_and_session, songs_by_user\n"
     ]
    }
   ],
   "source": [
    "# Insert data to sparkify keyspace tables\n",
    "file = 'event_datafile_new.csv'\n",
    "\n",
    "try: \n",
    "    with open(file, 'r', encoding = 'utf8') as f:\n",
    "        csvreader = csv.reader(f)\n",
    "        next(csvreader) # skip header\n",
    "        for line in csvreader:\n",
    "            # Data for artist, song title and song's length in the music app history that \n",
    "            # was heard during sessionId = 338, and itemInSession = 4\n",
    "            session.execute(songs_by_session_and_item_insert,(int(line[8]),int(line[3]),line[0],line[9],float(line[5])))\n",
    "            # Data for only the following: name of artist, song (sorted by itemInSession) and user \n",
    "            # (first and last name) for userid = 10, sessionid = 182\n",
    "            session.execute(songs_by_user_and_session_insert,(int(line[10]),int(line[8]),int(line[3]),line[0],line[9],line[1],line[4]))\n",
    "            # Data for every user name (first and last) in my music app history who listened to the \n",
    "            # song 'All Hands Against His Own'\n",
    "            session.execute(songs_by_user_insert,(line[9],int(line[10]),line[1],line[4]))\n",
    "    print('Inserted data for songs_by_session_and_item, songs_by_user_and_session, songs_by_user')\n",
    "        \n",
    "except Exception as e:\n",
    "    print(e)"
   ]
  },
  {
   "cell_type": "markdown",
   "metadata": {},
   "source": [
    "### Query Data\n",
    "\n",
    "---"
   ]
  },
  {
   "cell_type": "code",
   "execution_count": 13,
   "metadata": {},
   "outputs": [
    {
     "name": "stdout",
     "output_type": "stream",
     "text": [
      "Query successful\n",
      "Row(artist='Faithless', song='Music Matters (Mark Knight Dub)', length=Decimal('495.3073'))\n"
     ]
    }
   ],
   "source": [
    "# Query for the artist, song title and song's length in the music app history that was heard during\n",
    "# sessionId = 338, and itemInSession = 4\n",
    "query = '''SELECT artist, song, length\n",
    "           FROM songs_by_session_and_item\n",
    "           WHERE sessionId = 338 AND itemInSession = 4'''\n",
    "try: \n",
    "    rows = session.execute(query)\n",
    "    print('Query successful')\n",
    "\n",
    "except Exception as e:\n",
    "    print(e)\n",
    "\n",
    "for row in rows:\n",
    "    print(row)\n",
    "#     print(row.artist, row.song, row.length)"
   ]
  },
  {
   "cell_type": "code",
   "execution_count": 14,
   "metadata": {},
   "outputs": [
    {
     "name": "stdout",
     "output_type": "stream",
     "text": [
      "Query successful\n",
      "Row(artist='Lonnie Gordon', song='Catch You Baby (Steve Pitron & Max Sanna Radio Edit)', first_name='Sylvie', last_name='Cruz')\n",
      "Row(artist='Sebastien Tellier', song='Kilometer', first_name='Sylvie', last_name='Cruz')\n",
      "Row(artist='Three Drives', song='Greece 2000', first_name='Sylvie', last_name='Cruz')\n",
      "Row(artist='Down To The Bone', song=\"Keep On Keepin' On\", first_name='Sylvie', last_name='Cruz')\n"
     ]
    }
   ],
   "source": [
    "# Query for the name of artist, song (sorted by itemInSession) and user (first and last name) for \n",
    "# userid = 10, sessionid = 182\n",
    "query = ('''SELECT artist, song, first_name, Last_name\n",
    "            FROM songs_by_user_and_session\n",
    "            WHERE userId = 10 AND sessionId = 182\n",
    "            ORDER BY itemInSession DESC\n",
    "''')\n",
    "try: \n",
    "    rows = session.execute(query)\n",
    "    print('Query successful')\n",
    "\n",
    "except Exception as e:\n",
    "    print(e)\n",
    "\n",
    "for row in rows:\n",
    "    print(row)\n",
    "#     print(row.artist, row.song, row.first_name, row.last_name)"
   ]
  },
  {
   "cell_type": "code",
   "execution_count": 15,
   "metadata": {},
   "outputs": [
    {
     "name": "stdout",
     "output_type": "stream",
     "text": [
      "Query successful\n",
      "Row(first_name='Jacqueline', last_name='Lynch', song='All Hands Against His Own', userid=29)\n",
      "Row(first_name='Tegan', last_name='Levine', song='All Hands Against His Own', userid=80)\n",
      "Row(first_name='Sara', last_name='Johnson', song='All Hands Against His Own', userid=95)\n"
     ]
    }
   ],
   "source": [
    "# Query for every user name (first and last) in my music app history who listened to the song 'All Hands Against His Own'\n",
    "query = ('''SELECT first_name, Last_name, song, userId\n",
    "            FROM songs_by_user\n",
    "            WHERE song = 'All Hands Against His Own'\n",
    "''')\n",
    "try: \n",
    "    rows = session.execute(query)\n",
    "    print('Query successful')\n",
    "\n",
    "except Exception as e:\n",
    "    print(e)\n",
    "    \n",
    "for row in rows:\n",
    "    print(row)\n",
    "#     print(row.first_name, row.last_name)"
   ]
  },
  {
   "cell_type": "markdown",
   "metadata": {},
   "source": [
    "### Drop Tables\n",
    "\n",
    "---"
   ]
  },
  {
   "cell_type": "code",
   "execution_count": 18,
   "metadata": {},
   "outputs": [
    {
     "name": "stdout",
     "output_type": "stream",
     "text": [
      "Tables in sparkify keyspace have been dropped\n"
     ]
    }
   ],
   "source": [
    "# Drop all tables in sparkify keyspace\n",
    "drop_tables(session)"
   ]
  },
  {
   "cell_type": "code",
   "execution_count": 25,
   "metadata": {},
   "outputs": [
    {
     "name": "stdout",
     "output_type": "stream",
     "text": [
      "There are no tables in sparkify keyspace\n"
     ]
    }
   ],
   "source": [
    "# Query to view tables in sparkify keysapce\n",
    "try:\n",
    "    tables = session.execute('''SELECT * FROM system_schema.columns\n",
    "                                WHERE keyspace_name = 'sparkify'\n",
    "    ''')\n",
    "    \n",
    "except Exception as e:\n",
    "    print(e)\n",
    "\n",
    "# Get list of tables\n",
    "table_list = []\n",
    "\n",
    "for table in tables:\n",
    "    table_list.append(table)\n",
    "\n",
    "# View tables\n",
    "if len(table_list) > 0:\n",
    "    for table in table_list:\n",
    "        print(table)\n",
    "\n",
    "elif len(table_list) > 0:\n",
    "    print('There are no tables in sparkify keyspace')"
   ]
  },
  {
   "cell_type": "markdown",
   "metadata": {},
   "source": [
    "### Close Session and Cluster Connection\n",
    "\n",
    "---"
   ]
  },
  {
   "cell_type": "code",
   "execution_count": 27,
   "metadata": {},
   "outputs": [],
   "source": [
    "session.shutdown()\n",
    "cluster.shutdown()"
   ]
  }
 ],
 "metadata": {
  "hide_input": false,
  "kernelspec": {
   "display_name": "Python 3",
   "language": "python",
   "name": "python3"
  },
  "language_info": {
   "codemirror_mode": {
    "name": "ipython",
    "version": 3
   },
   "file_extension": ".py",
   "mimetype": "text/x-python",
   "name": "python",
   "nbconvert_exporter": "python",
   "pygments_lexer": "ipython3",
   "version": "3.8.8"
  },
  "toc": {
   "base_numbering": 1,
   "nav_menu": {},
   "number_sections": true,
   "sideBar": true,
   "skip_h1_title": false,
   "title_cell": "Table of Contents",
   "title_sidebar": "Contents",
   "toc_cell": false,
   "toc_position": {},
   "toc_section_display": true,
   "toc_window_display": false
  }
 },
 "nbformat": 4,
 "nbformat_minor": 2
}
